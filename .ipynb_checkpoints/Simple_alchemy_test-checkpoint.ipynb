{
 "cells": [
  {
   "cell_type": "markdown",
   "metadata": {},
   "source": [
    "### Annihilating Alanine in alanine dipeptide and using custom force to bring ACE and NME to near bonding distance/geometry\n",
    "\n",
    "https://openmmtools.readthedocs.io/en/0.18.1/api/generated/openmmtools.alchemy.AbsoluteAlchemicalFactory.html#openmmtools.alchemy.AbsoluteAlchemicalFactory"
   ]
  },
  {
   "cell_type": "code",
   "execution_count": 1,
   "metadata": {},
   "outputs": [],
   "source": [
    "from simtk.openmm.app import *\n",
    "from simtk.openmm import *\n",
    "from simtk.unit import *\n",
    "\n",
    "from openmmtools.alchemy import *\n",
    "from openmmtools.testsystems import *\n",
    "\n",
    "from pdbfixer import PDBFixer\n",
    "\n",
    "import numpy as np\n",
    "\n",
    "import copy\n",
    "import math\n",
    "import sys \n",
    "\n",
    "sys.path.append('..')\n",
    "from OpenMM_force_scripts.restraints import * \n",
    "#force scripts at https://github.com/askusay/OpenMM_force_scripts\n",
    "\n",
    "from sys import stdout\n",
    "\n",
    "import parmed as pmd"
   ]
  },
  {
   "cell_type": "code",
   "execution_count": 2,
   "metadata": {},
   "outputs": [],
   "source": [
    "# create absolute alchemical factory object\n",
    "factory = AbsoluteAlchemicalFactory(consistent_exceptions=False)"
   ]
  },
  {
   "cell_type": "code",
   "execution_count": 3,
   "metadata": {},
   "outputs": [],
   "source": [
    "test_system = AlanineDipeptideVacuum()\n",
    "reference_system, reference_topology, reference_positions = test_system.system, test_system.topology, test_system.positions"
   ]
  },
  {
   "cell_type": "code",
   "execution_count": 4,
   "metadata": {},
   "outputs": [],
   "source": [
    "PDBFile.writeFile(reference_topology,reference_positions,open('reference_pdb.pdb', 'w'))\n",
    "pdb = PDBFile('reference_pdb.pdb')"
   ]
  },
  {
   "cell_type": "code",
   "execution_count": 5,
   "metadata": {},
   "outputs": [],
   "source": [
    "forcefield = ForceField('amber99sb.xml')"
   ]
  },
  {
   "cell_type": "code",
   "execution_count": 6,
   "metadata": {},
   "outputs": [],
   "source": [
    "alanine = [residue for residue in reference_topology.residues() if residue.name == 'ALA']"
   ]
  },
  {
   "cell_type": "code",
   "execution_count": 7,
   "metadata": {},
   "outputs": [],
   "source": [
    "def find_indicies(topology, residue):\n",
    "    \"\"\"function to return atomic indicies of residue to be annhililated and atoms flanking it\"\"\"\n",
    "    \n",
    "    assert len(residue) == 1, 'Must supply only one reisude'\n",
    "    dihedral = []\n",
    "    \n",
    "    residue_atoms = [atom.index for atom in residue[0].atoms()]\n",
    "    external_bonds = [bond for bond in residue[0].external_bonds()]\n",
    "    external_indices = [atom.index for bond in external_bonds for atom in bond]\n",
    "    \n",
    "    # Finding atoms of neighbouring residue\n",
    "    flanking_atoms = set(external_indices) - set(residue_atoms)\n",
    "    flanking_atoms = list(flanking_atoms)\n",
    "    \n",
    "    # atoms of new dihedral\n",
    "    for bond in topology.bonds():\n",
    "        if bond[0].index in flanking_atoms or bond[1].index in flanking_atoms:\n",
    "            if bond[0].index not in residue_atoms and bond[1].index not in residue_atoms:\n",
    "            # for the concatemers, it will be bond[x].name == 'CA'\n",
    "                if bond[0].name not in ['O','H'] and bond[1].name not in ['O','H']:\n",
    "                    dihedral.extend([bonds.index for bonds in bond])\n",
    "    \n",
    "    return residue_atoms, external_indices, flanking_atoms, dihedral"
   ]
  },
  {
   "cell_type": "code",
   "execution_count": 8,
   "metadata": {},
   "outputs": [],
   "source": [
    "residue_atoms, external_indices, flanking_atoms, dihedral = find_indicies(reference_topology,alanine)"
   ]
  },
  {
   "cell_type": "code",
   "execution_count": 9,
   "metadata": {},
   "outputs": [
    {
     "data": {
      "text/plain": [
       "([6, 7, 8, 9, 10, 11, 12, 13, 14, 15], [4, 6, 14, 16], [16, 4], [1, 4, 16, 18])"
      ]
     },
     "execution_count": 9,
     "metadata": {},
     "output_type": "execute_result"
    }
   ],
   "source": [
    "residue_atoms, external_indices, flanking_atoms, dihedral"
   ]
  },
  {
   "cell_type": "code",
   "execution_count": 10,
   "metadata": {},
   "outputs": [
    {
     "name": "stdout",
     "output_type": "stream",
     "text": [
      "Applying Flat-bottom atom restraint force:\n",
      "force_variable: distance_force = 100*kilocalories_per_mole/angstroms**2\n",
      "distance_variable: distance = 2*Angstrom\n"
     ]
    }
   ],
   "source": [
    "reference_system = fb_atoms_rest(reference_system,pdb,flanking_atoms,'distance','distance_force',distance=2,force=100)\n",
    "#force scripts at https://github.com/askusay/OpenMM_force_scripts"
   ]
  },
  {
   "cell_type": "code",
   "execution_count": 11,
   "metadata": {},
   "outputs": [
    {
     "name": "stdout",
     "output_type": "stream",
     "text": [
      "Applying Torsional restraint force:\n",
      "force_variable: torsion_force = 10*kilocalories_per_mole\n",
      "angle_variable: torsion = 3*radians\n"
     ]
    }
   ],
   "source": [
    "reference_system = torsion_rest(reference_system,pdb,dihedral,'torsion','torsion_force',angle=math.pi,force=10.46)\n",
    "#force scripts at https://github.com/askusay/OpenMM_force_scripts"
   ]
  },
  {
   "cell_type": "code",
   "execution_count": 12,
   "metadata": {},
   "outputs": [],
   "source": [
    "# Create alchemical region for alanine, won't annihilate bonds or the molecule would disintegrate\n",
    "alchemical_region = AlchemicalRegion(alchemical_atoms=residue_atoms,\n",
    "                                     annihilate_sterics=True,\n",
    "                                     annihilate_electrostatics=True,\n",
    "                                     alchemical_angles=True,\n",
    "                                     alchemical_torsions=True)"
   ]
  },
  {
   "cell_type": "code",
   "execution_count": 13,
   "metadata": {},
   "outputs": [],
   "source": [
    "# Creating alchemical system\n",
    "alchemical_system = factory.create_alchemical_system(reference_system, alchemical_region)"
   ]
  },
  {
   "cell_type": "code",
   "execution_count": 14,
   "metadata": {},
   "outputs": [],
   "source": [
    "integrator = LangevinIntegrator(300*kelvin, 50/picoseconds, 0.5*femtoseconds)\n",
    "# 0.5 time second is used since the pulling force fights against the VDW radius (add interection to exception list to ammend this)"
   ]
  },
  {
   "cell_type": "code",
   "execution_count": 15,
   "metadata": {},
   "outputs": [],
   "source": [
    "# simulation object containing alchemical parameters\n",
    "alchemical_simulation = Simulation(reference_topology,alchemical_system,integrator)"
   ]
  },
  {
   "cell_type": "code",
   "execution_count": 16,
   "metadata": {},
   "outputs": [
    {
     "name": "stdout",
     "output_type": "stream",
     "text": [
      "distance\n",
      "distance_force\n",
      "lambda_angles\n",
      "lambda_electrostatics\n",
      "lambda_sterics\n",
      "lambda_torsions\n",
      "softcore_a\n",
      "softcore_alpha\n",
      "softcore_b\n",
      "softcore_beta\n",
      "softcore_c\n",
      "softcore_d\n",
      "softcore_e\n",
      "softcore_f\n",
      "torsion\n",
      "torsion_force\n"
     ]
    }
   ],
   "source": [
    "# The alchemical lamda forces are included in the simulation object\n",
    "for variable in alchemical_simulation.context.getParameters():\n",
    "    print(variable)"
   ]
  },
  {
   "cell_type": "code",
   "execution_count": 17,
   "metadata": {},
   "outputs": [],
   "source": [
    "# The distance between two peptides flanking another is ~ 4.7 Å\n",
    "# The distance between two linked peptides is ~ 1.3\n",
    "# Numpy linear spaced array:\n",
    "distances = np.linspace(0.47,0.2,50)\n",
    "\n",
    "# The CA-N-C-CA torsion between two peptides flanking another is ~ 0 rad\n",
    "# The CA-N-C-CA torsion between two linked peptides is ~ π rad\n",
    "# Numpy linear spaced array:\n",
    "torsions = np.linspace(0,math.pi,50)\n",
    "\n",
    "# Smoothly scale lambda over 50 windows\n",
    "lambda_value = np.linspace(1.0,0,50)"
   ]
  },
  {
   "cell_type": "code",
   "execution_count": 18,
   "metadata": {},
   "outputs": [],
   "source": [
    "alchemical_simulation.context.setPositions(reference_positions)"
   ]
  },
  {
   "cell_type": "code",
   "execution_count": 19,
   "metadata": {},
   "outputs": [],
   "source": [
    "alchemical_simulation.minimizeEnergy()"
   ]
  },
  {
   "cell_type": "code",
   "execution_count": 20,
   "metadata": {},
   "outputs": [],
   "source": [
    "alchemical_simulation.reporters.append(DCDReporter('ala_alchem.dcd',100))\n",
    "alchemical_simulation.reporters.append(StateDataReporter('ala_alchem.log', 100,\n",
    "                                              step=True,\n",
    "                                              time=True,\n",
    "                                              speed=True,\n",
    "                                              potentialEnergy=True,\n",
    "                                              kineticEnergy=True,\n",
    "                                              temperature=True,\n",
    "                                              volume=True,\n",
    "                                              progress=True,\n",
    "                                              remainingTime=True,\n",
    "                                              totalSteps=50000,\n",
    "                                              separator='\\t'))"
   ]
  },
  {
   "cell_type": "code",
   "execution_count": 21,
   "metadata": {},
   "outputs": [
    {
     "name": "stdout",
     "output_type": "stream",
     "text": [
      "Lambda = 0.00, peptide_dist = 0.20, torsion_angle= 3.14\r"
     ]
    }
   ],
   "source": [
    "for i in range(50):\n",
    "    for var in ['lambda_electrostatics', 'lambda_sterics', 'lambda_angles', 'lambda_torsions']:\n",
    "        alchemical_simulation.context.setParameter(var, lambda_value[i])\n",
    "    alchemical_simulation.context.setParameter('distance',distances[i])\n",
    "    alchemical_simulation.context.setParameter('torsion',torsions[i])\n",
    "    alchemical_simulation.step(1000)\n",
    "    \n",
    "    print('Lambda = %2.2f, peptide_dist = %2.2f, torsion_angle= %2.2f' % (lambda_value[i], distances[i], torsions[i]), end='\\r')"
   ]
  },
  {
   "cell_type": "code",
   "execution_count": 22,
   "metadata": {},
   "outputs": [],
   "source": [
    "alchemical_simulation.step(10000)"
   ]
  },
  {
   "cell_type": "code",
   "execution_count": null,
   "metadata": {},
   "outputs": [],
   "source": []
  }
 ],
 "metadata": {
  "kernelspec": {
   "display_name": "Python 3",
   "language": "python",
   "name": "python3"
  },
  "language_info": {
   "codemirror_mode": {
    "name": "ipython",
    "version": 3
   },
   "file_extension": ".py",
   "mimetype": "text/x-python",
   "name": "python",
   "nbconvert_exporter": "python",
   "pygments_lexer": "ipython3",
   "version": "3.7.5"
  }
 },
 "nbformat": 4,
 "nbformat_minor": 2
}
